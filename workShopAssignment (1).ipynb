{
  "nbformat": 4,
  "nbformat_minor": 0,
  "metadata": {
    "colab": {
      "provenance": []
    },
    "kernelspec": {
      "name": "python3",
      "display_name": "Python 3"
    },
    "language_info": {
      "name": "python"
    }
  },
  "cells": [
    {
      "cell_type": "code",
      "source": [
        "# 1. Calculate Factorial using recursion\n",
        "def myFactorial(num):\n",
        "  result = 1\n",
        "  if num == 1 or num == 0:\n",
        "    return result\n",
        "  else:\n",
        "      for x in range(1, num + 1):\n",
        "          result *= x\n",
        "      return result\n",
        "print(myFactorial(5))"
      ],
      "metadata": {
        "id": "zBA3QIONZ80b",
        "colab": {
          "base_uri": "https://localhost:8080/"
        },
        "outputId": "ffeecc2f-4637-4cd3-ec00-3ea68ddf05c2"
      },
      "execution_count": null,
      "outputs": [
        {
          "output_type": "stream",
          "name": "stdout",
          "text": [
            "120\n"
          ]
        }
      ]
    },
    {
      "cell_type": "code",
      "source": [
        "print(myFactorial(5))"
      ],
      "metadata": {
        "id": "HNP-nCVdZ8xt",
        "colab": {
          "base_uri": "https://localhost:8080/"
        },
        "outputId": "51b2fddd-c389-41ad-8254-cc2f5ea34461"
      },
      "execution_count": null,
      "outputs": [
        {
          "output_type": "stream",
          "name": "stdout",
          "text": [
            "120\n"
          ]
        }
      ]
    },
    {
      "cell_type": "code",
      "source": [
        "# 2. Write a function that takes a number and return True if this number is prime and False if not.\n",
        "print(\"if you want to stop press 90\")\n",
        "\n",
        "def fun(x):\n",
        "  v = 1\n",
        "  if x > 1:\n",
        "    for y in range(2,x):\n",
        "      if x % y == 0:\n",
        "        return False\n",
        "        v = 0\n",
        "        break\n",
        "    if v == 1:\n",
        "      return True\n",
        "\n",
        "\n",
        "while True:\n",
        "  x = int(input(\"=> \"))\n",
        "  if x == 90:\n",
        "    print(\"Good Bye\")\n",
        "    break\n",
        "  elif x > 1:\n",
        "    print(fun(x))\n",
        "  else:\n",
        "    print(\"Wrong number please enter number above one\")"
      ],
      "metadata": {
        "id": "7CemZvw_Z8rz",
        "colab": {
          "base_uri": "https://localhost:8080/"
        },
        "outputId": "16608eba-db04-4d44-bdc0-089265b75703"
      },
      "execution_count": null,
      "outputs": [
        {
          "output_type": "stream",
          "name": "stdout",
          "text": [
            "if you want to stop press 90\n",
            "=> 21\n",
            "False\n",
            "=> 213\n",
            "False\n",
            "=> 11\n",
            "True\n",
            "=> 5\n",
            "True\n",
            "=> 90\n",
            "Good Bye\n"
          ]
        }
      ]
    },
    {
      "cell_type": "code",
      "source": [],
      "metadata": {
        "id": "IxnywedQZ8pK"
      },
      "execution_count": null,
      "outputs": []
    },
    {
      "cell_type": "code",
      "source": [
        "# 3. Write a function that takes two numbers and return a list of common dividors\n",
        "def dividors(one,two):\n",
        "  commonDividor = [1]\n",
        "  for x in range(2,one):\n",
        "    if one % x == 0 and two % x == 0:\n",
        "      commonDividor.append(x)\n",
        "  return commonDividor\n",
        "\n",
        "allNums = dividors(12,8)\n",
        "print(allNums)\n",
        "allNums = dividors(1000,500)\n",
        "print(allNums)"
      ],
      "metadata": {
        "id": "-IiVNp1WZ8mN",
        "colab": {
          "base_uri": "https://localhost:8080/"
        },
        "outputId": "60b4ae1f-c5dc-475a-f6f6-e21672c8d59e"
      },
      "execution_count": null,
      "outputs": [
        {
          "output_type": "stream",
          "name": "stdout",
          "text": [
            "[1, 2, 4]\n",
            "[1, 2, 4, 5, 10, 20, 25, 50, 100, 125, 250, 500]\n"
          ]
        }
      ]
    },
    {
      "cell_type": "code",
      "source": [],
      "metadata": {
        "id": "Of5cBMJAZ8jl"
      },
      "execution_count": null,
      "outputs": []
    },
    {
      "cell_type": "code",
      "source": [
        "# 4. Given two strings, write a program that efficiently finds the longest common subsequenc\n",
        "str1 = \"Welcome to Machine Learning Diploma\"\n",
        "str2 = \"I am studying a Machine Learning Course\"\n",
        "wordsStr1 = str1.split()\n",
        "wordsStr2 = str2.split()\n",
        "words = []\n",
        "for x in wordsStr1:\n",
        "  if x in wordsStr2:\n",
        "    words.append(x)\n",
        "print(\" \".join(words))"
      ],
      "metadata": {
        "id": "BheWyAYoZ8gd",
        "colab": {
          "base_uri": "https://localhost:8080/"
        },
        "outputId": "684761f3-96ff-445e-990d-57e3622f2144"
      },
      "execution_count": null,
      "outputs": [
        {
          "output_type": "stream",
          "name": "stdout",
          "text": [
            "Machine Learning\n"
          ]
        }
      ]
    },
    {
      "cell_type": "code",
      "source": [],
      "metadata": {
        "id": "ERNo98gMZ8dk"
      },
      "execution_count": null,
      "outputs": []
    },
    {
      "cell_type": "code",
      "source": [
        "# 5. Write a function that will take a given string and reverse the order of words.\n",
        "def reverseWords(one):\n",
        "  oneWords = one.split()\n",
        "  i = 0\n",
        "  # print(oneWords)\n",
        "  while i < len(oneWords) / 2:\n",
        "    a = oneWords[len(oneWords)- i - 1]\n",
        "    oneWords[len(oneWords) - i - 1] = oneWords[i]\n",
        "    oneWords[i] = a\n",
        "    i += 1\n",
        "  return \" \".join(oneWords)\n",
        "\n",
        "one = reverseWords(\"Hello World this is test for\")\n",
        "print(one)"
      ],
      "metadata": {
        "id": "w2eaRAVuZ8ak",
        "colab": {
          "base_uri": "https://localhost:8080/"
        },
        "outputId": "880f2e6b-73f7-4c9d-870b-f1d102df65f5"
      },
      "execution_count": null,
      "outputs": [
        {
          "output_type": "stream",
          "name": "stdout",
          "text": [
            "for test is this World Hello\n"
          ]
        }
      ]
    },
    {
      "cell_type": "code",
      "source": [
        "import random\n",
        "\n",
        "random_number = random.randrange(10)\n",
        "print(random_number)  # Output: a random number between 0 and 9 (exclusive)\n"
      ],
      "metadata": {
        "id": "DJGh3h__Z8Xr",
        "colab": {
          "base_uri": "https://localhost:8080/"
        },
        "outputId": "5b4ec9f8-a340-4e29-caad-4982dbe6a65b"
      },
      "execution_count": null,
      "outputs": [
        {
          "output_type": "stream",
          "name": "stdout",
          "text": [
            "2\n"
          ]
        }
      ]
    },
    {
      "cell_type": "code",
      "source": [
        "# 6. Create a program that generates a random password of a given length.\n",
        "import random\n",
        "def generatePass(one):\n",
        "  myList = [chr(i) for i in range(97, 123)] + [chr(i) for i in range(65, 91)]\n",
        "  myList += ['!', '@', '#', '$', '%', '^', '&', '*', '(', ')', '_', '-', '+', '=', '[', ']', '{', '}', '|', '\\\\', ':', ';', '\"', \"'\", '<', '>', ',', '.', '/', '?', '`', '~']\n",
        "  myList += [str(i) for i in range(0, 10)]\n",
        "  password = random.choices(myList,k=one)\n",
        "  return password\n",
        "\n",
        "x = int(input(\"please enter the lenght of the password: \"))\n",
        "good = generatePass(x)\n",
        "print(\"\".join(good))"
      ],
      "metadata": {
        "id": "pXxXWbRkZ8Uz",
        "colab": {
          "base_uri": "https://localhost:8080/"
        },
        "outputId": "e6d0ce31-50c4-4545-bcbb-419c72e885d9"
      },
      "execution_count": null,
      "outputs": [
        {
          "output_type": "stream",
          "name": "stdout",
          "text": [
            "please enter the lenght of the password: 50\n",
            "SU8_yme)GSZ<lJ/:8~2Mh1_y+bcR4OI2L,YC!z_.E.*fU}?u?F\n"
          ]
        }
      ]
    },
    {
      "cell_type": "code",
      "source": [],
      "metadata": {
        "id": "6VXqsHWpZ8R7"
      },
      "execution_count": null,
      "outputs": []
    },
    {
      "cell_type": "code",
      "source": [
        "# 8. Write a Python program to find all the unique words and count the frequency of occurrence from a text file\n",
        "\n",
        "inputFile = open(\"inputTask8.txt\",\"r\")\n",
        "Words = inputFile.read()\n",
        "inputFile.close()\n",
        "\n",
        "Words = Words.replace(\"\\n\",\" \")\n",
        "Words = Words.replace(\".\",\" \")\n",
        "Words = Words.split(\" \")\n",
        "print(Words) # error\n",
        "\n",
        "uniqueValues = set(Words)\n",
        "finalResult = {}\n",
        "\n",
        "for ele in uniqueValues:\n",
        "  finalResult[ele] = Words.count(ele)\n",
        "\n",
        "# print(finalResult)\n",
        "outPutFile = open(\"outPutTask8.txt\",\"w\")\n",
        "with open(\"outPutTask8.txt\", \"w\") as outputFile:\n",
        "    # Write the content of the finalResult dictionary into the file\n",
        "    for word, count in finalResult.items():\n",
        "        outputFile.write(f\"{word}: {count}\\n\")\n",
        "# outPutTask8.txt = finalResult"
      ],
      "metadata": {
        "id": "Ix-ume7cB2pR",
        "colab": {
          "base_uri": "https://localhost:8080/"
        },
        "outputId": "47ebf274-b744-42de-d055-75b77989ab96"
      },
      "execution_count": 29,
      "outputs": [
        {
          "output_type": "stream",
          "name": "stdout",
          "text": [
            "['Welcome', 'ali', 'hi', 'ali', 'no', 'hi', 'no', 'ali', 'no', 'ali']\n"
          ]
        }
      ]
    },
    {
      "cell_type": "code",
      "source": [],
      "metadata": {
        "id": "yfOHR6cnB2ag"
      },
      "execution_count": null,
      "outputs": []
    },
    {
      "cell_type": "code",
      "source": [
        "# 7. Write a Python program to find all the unique words and count the frequency of occurrence from a given list of strings\n",
        "def countingWords(one):\n",
        "  one = list(one)\n",
        "  # one = one.split()\n",
        "  counts = {}\n",
        "  for x in one:\n",
        "    if x in counts:\n",
        "      counts[x] += 1\n",
        "    else:\n",
        "      counts[x] = 1\n",
        "  return str(counts)\n",
        "\n",
        "test = [\"Welcome\", \"Ali\", \"Hi\", \"Ali\", \"No\", \"Hi\", \"No\", \"Ali\", \"No\", \"Ali\"]\n",
        "print(countingWords(test))"
      ],
      "metadata": {
        "id": "iziaqF2AZ8PD",
        "colab": {
          "base_uri": "https://localhost:8080/"
        },
        "outputId": "85d0cff6-c6d0-4c6c-9d75-bacc2d47adfb"
      },
      "execution_count": null,
      "outputs": [
        {
          "output_type": "stream",
          "name": "stdout",
          "text": [
            "{'Welcome': 1, 'Ali': 4, 'Hi': 2, 'No': 3}\n"
          ]
        }
      ]
    },
    {
      "cell_type": "code",
      "source": [],
      "metadata": {
        "id": "OAs70PXuZ8MT"
      },
      "execution_count": null,
      "outputs": []
    },
    {
      "cell_type": "code",
      "source": [
        "# 10. Person class and child Student class\n",
        "class person:\n",
        "  name = \"name\"\n",
        "  age = \"age\"\n",
        "  def __init__(self,name,age):\n",
        "    self.name = name\n",
        "    self.age = age\n",
        "  def display(self):\n",
        "    print(f\"{self.name} is {self.age} years old\")\n",
        "class student(person):\n",
        "  schoolName = \"\"\n",
        "  def __init__(self,schoolN,name,age):\n",
        "    self.schoolName = schoolN\n",
        "    super().__init__(name,age)\n",
        "  def dispalyStudent(self):\n",
        "    print(f\"studnet with name {self.name} is {self.age} in school that called {self.schoolName}\")\n",
        "\n",
        "person1 = person(\"Ahmed\",20)\n",
        "\n",
        "student1 = student(\"education school\",\"Mohamed\",19)\n",
        "# student1.schoolName = \"hello world\"\n",
        "student1.dispalyStudent()\n",
        "person1.display()"
      ],
      "metadata": {
        "id": "nBWyVDqEZ8Jl",
        "colab": {
          "base_uri": "https://localhost:8080/"
        },
        "outputId": "ed36d353-2714-4e9a-9293-663cd7610ae5"
      },
      "execution_count": null,
      "outputs": [
        {
          "output_type": "stream",
          "name": "stdout",
          "text": [
            "studnet with name Mohamed is 19 in school that called education school\n",
            "Ahmed is 20 years old\n"
          ]
        }
      ]
    },
    {
      "cell_type": "code",
      "source": [
        "# 9. make chat bot for a company time\n",
        "first = [\"hello\",\"hi\",\"how are you\",\"you are good\",\"are you aviable\"]\n",
        "firstAnswer = \"Hello, this is Chat Bot test for a company aviable time and free time please ask any question and this Bot will answer\"\n",
        "second = [\"time\",\"spare time\",\"working hours\",\"aviable\",'reserve',\"hours\",\"hour\"]\n",
        "secondAnswer = \"yes we work all days from 8am to 10pm\"\n",
        "reserveCode = 10\n",
        "comSecondAnswer = f\"if you want to reserve a time press {reserveCode} then the day then the hour \"\n",
        "\n",
        "\n",
        "endCode = 90\n",
        "print(\"hello This is Chat Bot how can i help you if you want to exit press \",endCode)\n",
        "while True:\n",
        "  x = input(\"=> \").strip()\n",
        "  if x in first:\n",
        "    print(firstAnswer)\n",
        "  elif x in second:\n",
        "    print(secondAnswer)\n",
        "    print(comSecondAnswer)\n",
        "  elif x[0] + x[1] == \"10\":\n",
        "    print(f\"ok you have reserve on{x[2:]}\")\n",
        "  elif x == \"{}\".format(endCode):\n",
        "    print(\"Good Bye\")\n",
        "    break\n",
        "  else:\n",
        "    print(\"invalid input please try again \")\n",
        "\n",
        "\n",
        "\n"
      ],
      "metadata": {
        "id": "qDFQBejJZ8u8",
        "colab": {
          "base_uri": "https://localhost:8080/"
        },
        "outputId": "55e931c7-b08d-47a1-aaca-f5d1f2965748"
      },
      "execution_count": null,
      "outputs": [
        {
          "output_type": "stream",
          "name": "stdout",
          "text": [
            "hello This is Chat Bot how can i help you if you want to exit press  90\n",
            "=> 90\n",
            "Good Bye\n"
          ]
        }
      ]
    },
    {
      "cell_type": "code",
      "source": [],
      "metadata": {
        "id": "U3S2vkjcZ8G0"
      },
      "execution_count": null,
      "outputs": []
    },
    {
      "cell_type": "code",
      "source": [
        "# Task 11: Rectangle class:\n",
        "class Rectangle:\n",
        "  width = 0\n",
        "  height = 0\n",
        "  def __init__(self,W,H):\n",
        "    self.width = W\n",
        "    self.height = H\n",
        "  def Perimeter(self):\n",
        "    return (self.width * 2) + (self.height * 2)\n",
        "  def Area(self):\n",
        "    return self.width * self.height\n",
        "  def display(self):\n",
        "    return f\"the width of the rectangle is {self.width}, Height is {self.height}, Area {self.Area()}, perimeter {self.Perimeter()}\"\n",
        "\n",
        "rec1 = Rectangle(2,3)\n",
        "print(rec1.display())"
      ],
      "metadata": {
        "id": "dipfltQZZ8D8",
        "colab": {
          "base_uri": "https://localhost:8080/"
        },
        "outputId": "1415ba75-30d5-4658-8767-05dbae1e7f1c"
      },
      "execution_count": null,
      "outputs": [
        {
          "output_type": "stream",
          "name": "stdout",
          "text": [
            "the width of the rectangle is 2, Height is 3, Area 6, perimeter 10\n"
          ]
        }
      ]
    },
    {
      "cell_type": "code",
      "source": [],
      "metadata": {
        "id": "T5OFgYxVZ8Bb"
      },
      "execution_count": null,
      "outputs": []
    },
    {
      "cell_type": "code",
      "source": [],
      "metadata": {
        "id": "7S9QBxhSZ7-0"
      },
      "execution_count": null,
      "outputs": []
    },
    {
      "cell_type": "code",
      "source": [],
      "metadata": {
        "id": "UT5HTXWGZ78F"
      },
      "execution_count": null,
      "outputs": []
    },
    {
      "cell_type": "code",
      "source": [],
      "metadata": {
        "id": "ytuCo494Z75S"
      },
      "execution_count": null,
      "outputs": []
    },
    {
      "cell_type": "code",
      "source": [],
      "metadata": {
        "id": "lekU_0EZZ720"
      },
      "execution_count": null,
      "outputs": []
    },
    {
      "cell_type": "code",
      "execution_count": null,
      "metadata": {
        "id": "q0nGrf4hZ50-"
      },
      "outputs": [],
      "source": []
    }
  ]
}